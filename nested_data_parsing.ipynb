{
  "nbformat": 4,
  "nbformat_minor": 0,
  "metadata": {
    "colab": {
      "name": "nested data parsing.ipynb",
      "provenance": [],
      "authorship_tag": "ABX9TyO9Mmc8aF4yf+cANELYABQF",
      "include_colab_link": true
    },
    "kernelspec": {
      "name": "python3",
      "display_name": "Python 3"
    },
    "language_info": {
      "name": "python"
    }
  },
  "cells": [
    {
      "cell_type": "markdown",
      "metadata": {
        "id": "view-in-github",
        "colab_type": "text"
      },
      "source": [
        "<a href=\"https://colab.research.google.com/github/Lokhande100/Nested-Json-Parsing/blob/main/nested_data_parsing.ipynb\" target=\"_parent\"><img src=\"https://colab.research.google.com/assets/colab-badge.svg\" alt=\"Open In Colab\"/></a>"
      ]
    },
    {
      "cell_type": "code",
      "source": [
        "r_json={\n",
        "  \"destination_addresses\": [\n",
        "    \"Washington, DC, USA\",\n",
        "    \"Philadelphia, PA, USA\",\n",
        "    \"Santa Barbara, CA, USA\",\n",
        "    \"Miami, FL, USA\",\n",
        "    \"Austin, TX, USA\",\n",
        "    \"Napa County, CA, USA\"\n",
        "  ],\n",
        "  \"origin_addresses\": [\n",
        "    \"New York, NY, USA\"\n",
        "  ],\n",
        "  \"rows\": [{\n",
        "    \"elements\": [{\n",
        "        \"distance\": {\n",
        "          \"text\": \"227 mi\",\n",
        "          \"value\": 365468\n",
        "        },\n",
        "        \"duration\": {\n",
        "          \"text\": \"3 hours 54 mins\",\n",
        "          \"value\": 14064\n",
        "        },\n",
        "        \"status\": \"OK\"\n",
        "      },\n",
        "      {\n",
        "        \"distance\": {\n",
        "          \"text\": \"94.6 mi\",\n",
        "          \"value\": 152193\n",
        "        },\n",
        "        \"duration\": {\n",
        "          \"text\": \"1 hour 44 mins\",\n",
        "          \"value\": 6227\n",
        "        },\n",
        "        \"status\": \"OK\"\n",
        "      },\n",
        "      {\n",
        "        \"distance\": {\n",
        "          \"text\": \"2,878 mi\",\n",
        "          \"value\": 4632197\n",
        "        },\n",
        "        \"duration\": {\n",
        "          \"text\": \"1 day 18 hours\",\n",
        "          \"value\": 151772\n",
        "        },\n",
        "        \"status\": \"OK\"\n",
        "      },\n",
        "      {\n",
        "        \"distance\": {\n",
        "          \"text\": \"1,286 mi\",\n",
        "          \"value\": 2069031\n",
        "        },\n",
        "        \"duration\": {\n",
        "          \"text\": \"18 hours 43 mins\",\n",
        "          \"value\": 67405\n",
        "        },\n",
        "        \"status\": \"OK\"\n",
        "      },\n",
        "      {\n",
        "        \"distance\": {\n",
        "          \"text\": \"1,742 mi\",\n",
        "          \"value\": 2802972\n",
        "        },\n",
        "        \"duration\": {\n",
        "          \"text\": \"1 day 2 hours\",\n",
        "          \"value\": 93070\n",
        "        },\n",
        "        \"status\": \"OK\"\n",
        "      },\n",
        "      {\n",
        "        \"distance\": {\n",
        "          \"text\": \"2,871 mi\",\n",
        "          \"value\": 4620514\n",
        "        },\n",
        "        \"duration\": {\n",
        "          \"text\": \"1 day 18 hours\",\n",
        "          \"value\": 152913\n",
        "        },\n",
        "        \"status\": \"OK\"\n",
        "      }\n",
        "    ]\n",
        "  }],\n",
        "  \"status\": \"OK\"\n",
        "}"
      ],
      "metadata": {
        "id": "UhC7Ahudotwh"
      },
      "execution_count": 8,
      "outputs": []
    },
    {
      "cell_type": "code",
      "execution_count": 9,
      "metadata": {
        "id": "Bcy5QQcJpAjd"
      },
      "outputs": [],
      "source": [
        "def json_extract(obj, key):\n",
        "    \"\"\"Recursively fetch values from nested JSON.\"\"\"\n",
        "    arr = []\n",
        "\n",
        "    def extract(obj, arr, key):\n",
        "        \"\"\"Recursively search for values of key in JSON tree.\"\"\"\n",
        "        if isinstance(obj, dict):\n",
        "            for k, v in obj.items():\n",
        "                if isinstance(v, (dict, list)):\n",
        "                    extract(v, arr, key)\n",
        "                elif k == key:\n",
        "                    arr.append(v)\n",
        "        elif isinstance(obj, list):\n",
        "            for item in obj:\n",
        "                extract(item, arr, key)\n",
        "        return arr\n",
        "\n",
        "    values = extract(obj, arr, key)\n",
        "    return values"
      ]
    },
    {
      "cell_type": "code",
      "source": [
        "json_extract(r_json,'text')"
      ],
      "metadata": {
        "colab": {
          "base_uri": "https://localhost:8080/"
        },
        "id": "ZOxwFTOxqOg4",
        "outputId": "5f1e88d7-236c-4e63-9db1-bab934e80626"
      },
      "execution_count": 10,
      "outputs": [
        {
          "output_type": "execute_result",
          "data": {
            "text/plain": [
              "['227 mi',\n",
              " '3 hours 54 mins',\n",
              " '94.6 mi',\n",
              " '1 hour 44 mins',\n",
              " '2,878 mi',\n",
              " '1 day 18 hours',\n",
              " '1,286 mi',\n",
              " '18 hours 43 mins',\n",
              " '1,742 mi',\n",
              " '1 day 2 hours',\n",
              " '2,871 mi',\n",
              " '1 day 18 hours']"
            ]
          },
          "metadata": {},
          "execution_count": 10
        }
      ]
    }
  ]
}